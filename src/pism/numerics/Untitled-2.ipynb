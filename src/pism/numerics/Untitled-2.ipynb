{
 "cells": [
  {
   "cell_type": "code",
   "execution_count": null,
   "id": "72a90b8d",
   "metadata": {},
   "outputs": [
    {
     "name": "stdout",
     "output_type": "stream",
     "text": [
      "Using matplotlib backend: module://matplotlib_inline.backend_inline\n",
      "%pylab is deprecated, use %matplotlib inline and import the required libraries.\n",
      "Populating the interactive namespace from numpy and matplotlib\n"
     ]
    }
   ],
   "source": [
    "%pylab\n",
    "\n",
    "from solvers import newton_rootsolve, test_newton_rootsolve\n",
    "import jax\n",
    "from jax import numpy as jnp\n",
    "\n",
    "test_newton_rootsolve(10**6)\n",
    "\n",
    "#@jax.jit\n",
    "#def f(x,*params):\n",
    "#    return x**2 - params[0]\n",
    "\n",
    "#newton_rootsolve(f, [[1.],[1.],[1.]], [[1.],[2.],[3.]])\n"
   ]
  },
  {
   "cell_type": "code",
   "execution_count": null,
   "id": "4f29273f",
   "metadata": {},
   "outputs": [
    {
     "data": {
      "text/plain": [
       "array([[1., 1., 1.]])"
      ]
     },
     "execution_count": 9,
     "metadata": {},
     "output_type": "execute_result"
    }
   ],
   "source": [
    "#np.atleast_2d()\n",
    "#np.atleast_2d([1,2,3],)\n",
    "#np.atleast_2d([[1.],[1.],[1.]]).T"
   ]
  },
  {
   "cell_type": "code",
   "execution_count": null,
   "id": "9b951eec",
   "metadata": {},
   "outputs": [
    {
     "data": {
      "text/plain": [
       "Array(0.00297047, dtype=float32)"
      ]
     },
     "execution_count": 2,
     "metadata": {},
     "output_type": "execute_result"
    }
   ],
   "source": [
    "p, a = jnp.array([2.5031361e-01, 2.3303105e-01])\n",
    "a ** (1.0 / p)\n"
   ]
  },
  {
   "cell_type": "code",
   "execution_count": null,
   "id": "213f2db7",
   "metadata": {},
   "outputs": [],
   "source": []
  }
 ],
 "metadata": {
  "kernelspec": {
   "display_name": "Python 3",
   "language": "python",
   "name": "python3"
  },
  "language_info": {
   "codemirror_mode": {
    "name": "ipython",
    "version": 3
   },
   "file_extension": ".py",
   "mimetype": "text/x-python",
   "name": "python",
   "nbconvert_exporter": "python",
   "pygments_lexer": "ipython3",
   "version": "3.13.2"
  }
 },
 "nbformat": 4,
 "nbformat_minor": 5
}
