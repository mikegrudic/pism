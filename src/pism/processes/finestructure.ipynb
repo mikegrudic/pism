{
 "cells": [
  {
   "cell_type": "markdown",
   "id": "1109c5a4",
   "metadata": {},
   "source": [
    "Two-level atom"
   ]
  },
  {
   "cell_type": "code",
   "execution_count": 1,
   "id": "96e6b9c6",
   "metadata": {},
   "outputs": [
    {
     "data": {
      "text/latex": [
       "$\\displaystyle \\frac{A E g_{1} n n_{c1} q_{c1}}{A g_{0} e^{\\frac{E}{T k}} + g_{0} n_{c1} q_{c1} e^{\\frac{E}{T k}} + g_{1} n_{c1} q_{c1}}$"
      ],
      "text/plain": [
       "A*E*g1*n*n_c1*q_c1/(A*g0*exp(E/(T*k)) + g0*n_c1*q_c1*exp(E/(T*k)) + g1*n_c1*q_c1)"
      ]
     },
     "execution_count": 1,
     "metadata": {},
     "output_type": "execute_result"
    }
   ],
   "source": [
    "from sympy import solve, simplify\n",
    "from sympy.simplify import separatevars\n",
    "from sympy.abc import A, B, I, n, E, k, T, q, C\n",
    "import sympy as sp\n",
    "\n",
    "g1, g0, C10, C01, B01, B10, n1, n0, n, Λ, pi, h, f, c, Tcmb, x = sp.symbols(\"g1 g0 C_10 C_01 B01 B10 n1 n0 n Λ π h f c T_rad x\")\n",
    "\n",
    "num_colliders = 1\n",
    "nc = []\n",
    "qc = []\n",
    "for i in range(num_colliders):\n",
    "    nc.append(sp.symbols(f\"n_c{i+1}\"))\n",
    "    qc.append(sp.symbols(f\"q_c{i+1}\"))\n",
    "\n",
    "eqns=[\n",
    "    C01 - C10 * g1/g0 * sp.exp(-E/(k*T)), # relation between collisional excitation and deexcitation\n",
    "    C10 - sum([q*n for q,n in zip(qc,nc)]), # rate of deexcitation\n",
    "    (B01 * I + C01) * n0 - (A + B10 * I + C10)*n1, # level population equilibrium\n",
    "    B01 - (g1/g0) * B10, # einstein relation\n",
    "    A - 2 * h * f**3 / c**2 * B10, # einstein relation\n",
    "    Λ - E * (A * n1 + B10 * I*(n1 - (g1/g0)*n0)), # expression for net cooling\n",
    "    f - E/h, # planck's law\n",
    "    n1 + n0 - n, # conservation\n",
    "    I #- 2 * h * f**3 / c**2 / (sp.exp(h*f/(k * Tcmb))-1), # presence of ambient radiation field\n",
    "]\n",
    "\n",
    "separatevars(solve(eqns, [Λ, B10,B01,n1, C01,f,C10,I,n0],dict=True)[0][Λ],force=True)"
   ]
  },
  {
   "cell_type": "markdown",
   "id": "72bf0104",
   "metadata": {},
   "source": [
    "note: the cooling rate from collisions with species A and B is not simply the sum of the individual contributions, because collision rates add in both the numerator and denominator."
   ]
  },
  {
   "cell_type": "code",
   "execution_count": null,
   "id": "414b601e",
   "metadata": {},
   "outputs": [
    {
     "data": {
      "text/latex": [
       "$\\displaystyle I - \\frac{2 f^{3} h}{c^{2} \\left(e^{\\frac{f h}{T_{CMB} k}} - 1\\right)}$"
      ],
      "text/plain": [
       "I - 2*f**3*h/(c**2*(exp(f*h/(T_CMB*k)) - 1))"
      ]
     },
     "execution_count": 46,
     "metadata": {},
     "output_type": "execute_result"
    }
   ],
   "source": [
    "from astropy import units as u, constants as c\n",
    "def twolevel_atom_cooling(energy, A, deexcitation_coeff, g0, g1, T):\n",
    "    return A * energy * g1 * deexcitation_coeff * np.exp(-energy/k*T) / g0"
   ]
  },
  {
   "cell_type": "markdown",
   "id": "f45c2317",
   "metadata": {},
   "source": [
    "# N-level atom\n",
    "constuct a n x n matrix whose element ij is the rate of transition into state i per density of atoms in state j"
   ]
  },
  {
   "cell_type": "code",
   "execution_count": 195,
   "id": "736bb20d",
   "metadata": {},
   "outputs": [
    {
     "data": {
      "text/latex": [
       "$\\displaystyle \\frac{g_{0} g_{1} n n_{c} \\left(A_{10} g_{0} q_{20c} e^{\\frac{E_{10}}{kT}} + g_{0} n_{c} q_{10c} q_{21c} e^{\\frac{E_{10}}{kT}} + g_{0} n_{c} q_{20c} q_{21c} e^{\\frac{E_{10}}{kT}} + g_{1} n_{c} q_{10c} q_{20c}\\right) e^{\\frac{E_{20}}{kT}} e^{\\frac{E_{21}}{kT}}}{A_{10} A_{20} g_{0}^{2} g_{1} e^{\\frac{E_{10}}{kT}} e^{\\frac{E_{20}}{kT}} e^{\\frac{E_{21}}{kT}} + A_{10} A_{21} g_{0}^{2} g_{1} e^{\\frac{E_{10}}{kT}} e^{\\frac{E_{20}}{kT}} e^{\\frac{E_{21}}{kT}} + A_{10} g_{0}^{2} g_{1} n_{c} q_{20c} e^{\\frac{E_{10}}{kT}} e^{\\frac{E_{20}}{kT}} e^{\\frac{E_{21}}{kT}} + A_{10} g_{0}^{2} g_{2} n_{c} q_{21c} e^{\\frac{E_{10}}{kT}} e^{\\frac{E_{20}}{kT}} + A_{10} g_{0} g_{1} g_{2} n_{c} q_{20c} e^{\\frac{E_{10}}{kT}} e^{\\frac{E_{21}}{kT}} + A_{20} g_{0}^{2} g_{1} n_{c} q_{10c} e^{\\frac{E_{10}}{kT}} e^{\\frac{E_{20}}{kT}} e^{\\frac{E_{21}}{kT}} + A_{20} g_{0}^{2} g_{1} n_{c} q_{21c} e^{\\frac{E_{10}}{kT}} e^{\\frac{E_{20}}{kT}} e^{\\frac{E_{21}}{kT}} + A_{20} g_{0} g_{1}^{2} n_{c} q_{10c} e^{\\frac{E_{20}}{kT}} e^{\\frac{E_{21}}{kT}} + A_{21} g_{0}^{2} g_{1} n_{c} q_{10c} e^{\\frac{E_{10}}{kT}} e^{\\frac{E_{20}}{kT}} e^{\\frac{E_{21}}{kT}} + A_{21} g_{0}^{2} g_{1} n_{c} q_{20c} e^{\\frac{E_{10}}{kT}} e^{\\frac{E_{20}}{kT}} e^{\\frac{E_{21}}{kT}} + A_{21} g_{0} g_{1}^{2} n_{c} q_{10c} e^{\\frac{E_{20}}{kT}} e^{\\frac{E_{21}}{kT}} + g_{0}^{2} g_{1} n_{c}^{2} q_{10c} q_{21c} e^{\\frac{E_{10}}{kT}} e^{\\frac{E_{20}}{kT}} e^{\\frac{E_{21}}{kT}} + g_{0}^{2} g_{1} n_{c}^{2} q_{20c} q_{21c} e^{\\frac{E_{10}}{kT}} e^{\\frac{E_{20}}{kT}} e^{\\frac{E_{21}}{kT}} + g_{0}^{2} g_{2} n_{c}^{2} q_{10c} q_{21c} e^{\\frac{E_{10}}{kT}} e^{\\frac{E_{20}}{kT}} + g_{0}^{2} g_{2} n_{c}^{2} q_{20c} q_{21c} e^{\\frac{E_{10}}{kT}} e^{\\frac{E_{20}}{kT}} + g_{0} g_{1}^{2} n_{c}^{2} q_{10c} q_{20c} e^{\\frac{E_{20}}{kT}} e^{\\frac{E_{21}}{kT}} + g_{0} g_{1} g_{2} n_{c}^{2} q_{10c} q_{20c} e^{\\frac{E_{10}}{kT}} e^{\\frac{E_{21}}{kT}} + g_{0} g_{1} g_{2} n_{c}^{2} q_{10c} q_{21c} e^{\\frac{E_{20}}{kT}} + g_{0} g_{1} g_{2} n_{c}^{2} q_{20c} q_{21c} e^{\\frac{E_{10}}{kT}} e^{\\frac{E_{21}}{kT}} + g_{1}^{2} g_{2} n_{c}^{2} q_{10c} q_{20c} e^{\\frac{E_{21}}{kT}}}$"
      ],
      "text/plain": [
       "g_0*g_1*n*n_c*(A_10*g_0*q_20c*exp(E_10/kT) + g_0*n_c*q_10c*q_21c*exp(E_10/kT) + g_0*n_c*q_20c*q_21c*exp(E_10/kT) + g_1*n_c*q_10c*q_20c)*exp(E_20/kT)*exp(E_21/kT)/(A_10*A_20*g_0**2*g_1*exp(E_10/kT)*exp(E_20/kT)*exp(E_21/kT) + A_10*A_21*g_0**2*g_1*exp(E_10/kT)*exp(E_20/kT)*exp(E_21/kT) + A_10*g_0**2*g_1*n_c*q_20c*exp(E_10/kT)*exp(E_20/kT)*exp(E_21/kT) + A_10*g_0**2*g_2*n_c*q_21c*exp(E_10/kT)*exp(E_20/kT) + A_10*g_0*g_1*g_2*n_c*q_20c*exp(E_10/kT)*exp(E_21/kT) + A_20*g_0**2*g_1*n_c*q_10c*exp(E_10/kT)*exp(E_20/kT)*exp(E_21/kT) + A_20*g_0**2*g_1*n_c*q_21c*exp(E_10/kT)*exp(E_20/kT)*exp(E_21/kT) + A_20*g_0*g_1**2*n_c*q_10c*exp(E_20/kT)*exp(E_21/kT) + A_21*g_0**2*g_1*n_c*q_10c*exp(E_10/kT)*exp(E_20/kT)*exp(E_21/kT) + A_21*g_0**2*g_1*n_c*q_20c*exp(E_10/kT)*exp(E_20/kT)*exp(E_21/kT) + A_21*g_0*g_1**2*n_c*q_10c*exp(E_20/kT)*exp(E_21/kT) + g_0**2*g_1*n_c**2*q_10c*q_21c*exp(E_10/kT)*exp(E_20/kT)*exp(E_21/kT) + g_0**2*g_1*n_c**2*q_20c*q_21c*exp(E_10/kT)*exp(E_20/kT)*exp(E_21/kT) + g_0**2*g_2*n_c**2*q_10c*q_21c*exp(E_10/kT)*exp(E_20/kT) + g_0**2*g_2*n_c**2*q_20c*q_21c*exp(E_10/kT)*exp(E_20/kT) + g_0*g_1**2*n_c**2*q_10c*q_20c*exp(E_20/kT)*exp(E_21/kT) + g_0*g_1*g_2*n_c**2*q_10c*q_20c*exp(E_10/kT)*exp(E_21/kT) + g_0*g_1*g_2*n_c**2*q_10c*q_21c*exp(E_20/kT) + g_0*g_1*g_2*n_c**2*q_20c*q_21c*exp(E_10/kT)*exp(E_21/kT) + g_1**2*g_2*n_c**2*q_10c*q_20c*exp(E_21/kT))"
      ]
     },
     "execution_count": 195,
     "metadata": {},
     "output_type": "execute_result"
    }
   ],
   "source": [
    "#def n_level_atom(energies, deexcitation_rates, T, ):\n",
    "#    num_levels = 5 # assume ordered by energy\n",
    "#    num_transitions = num_levels * (num_levels+1)/2\n",
    "#    energies = np.sort(energies)\n",
    "\n",
    "num_levels = 3\n",
    "matrix = sp.zeros(num_levels)\n",
    "from sympy import Matrix\n",
    "\n",
    "\n",
    "#def selection_rule(i,j):\n",
    "#    if i > 0:\n",
    "\n",
    "\n",
    "def get_q(i,j):\n",
    "\n",
    "    if j>i:\n",
    "        # if i > 0:\n",
    "        #     return 0\n",
    "        # else:\n",
    "        return sp.symbols(f\"q_{j}{i}c\")\n",
    "    else: \n",
    "#        if j > 0:\n",
    "#            return 0\n",
    "#        else:\n",
    "        return sp.symbols(f\"q_{i}{j}c\") * sp.symbols(f\"g_{i}\")/sp.symbols(f\"g_{j}\") * sp.exp(-sp.symbols(f\"E_{i}{j}\")/sp.symbols(\"kT\"))\n",
    "\n",
    "for i in range(num_levels):\n",
    "    for j in range(num_levels):\n",
    "        if i!=j:\n",
    "            matrix[i,j] = get_q(j,i) * sp.symbols(\"n_c\")\n",
    "            matrix[i,i] -= get_q(i,j) * sp.symbols(\"n_c\")\n",
    "#            matrix[j,i] -= sp.symbols(f\"q_{j}{i}c\") * sp.symbols(\"n_c\")\n",
    "            if j>i: \n",
    "                matrix[i,j] += sp.symbols(f\"A_{j}{i}\")                \n",
    "            else:\n",
    "                matrix[i,i] -= sp.symbols(f\"A_{i}{j}\")\n",
    "\n",
    "#        else:\n",
    "\n",
    "\n",
    "matrix #@ \n",
    "vec = Matrix([sp.symbols(f\"n_{i}\") for i in range(num_levels)])\n",
    "vec[0] = sp.symbols(\"n\") - sum(vec[1:])\n",
    "\n",
    "#for i in range(1,num_levels)\n",
    "\n",
    "separatevars(solve(matrix @ vec,vec[1:], dict=True)[0][sp.symbols(\"n_2\")]) #, [vec[1],vec[2]])"
   ]
  },
  {
   "cell_type": "code",
   "execution_count": null,
   "id": "34191a16",
   "metadata": {},
   "outputs": [],
   "source": []
  }
 ],
 "metadata": {
  "kernelspec": {
   "display_name": "Python 3",
   "language": "python",
   "name": "python3"
  },
  "language_info": {
   "codemirror_mode": {
    "name": "ipython",
    "version": 3
   },
   "file_extension": ".py",
   "mimetype": "text/x-python",
   "name": "python",
   "nbconvert_exporter": "python",
   "pygments_lexer": "ipython3",
   "version": "3.13.2"
  }
 },
 "nbformat": 4,
 "nbformat_minor": 5
}
