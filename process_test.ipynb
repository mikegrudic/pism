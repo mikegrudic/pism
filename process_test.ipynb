{
 "cells": [
  {
   "cell_type": "code",
   "execution_count": 1,
   "id": "67756cf5",
   "metadata": {},
   "outputs": [
    {
     "name": "stdout",
     "output_type": "stream",
     "text": [
      "Using matplotlib backend: module://matplotlib_inline.backend_inline\n",
      "%pylab is deprecated, use %matplotlib inline and import the required libraries.\n",
      "Populating the interactive namespace from numpy and matplotlib\n",
      "(dn_H+, /, dt) = 5.85e-8*sqrt(T)*n_H*n_e-*exp(-157809.1/T)/(sqrt(10)*sqrt(T) + 1000)\n",
      "(dn_He+, /, dt) = sqrt(T)*n_e-*(2.38e-8*n_He*exp(631515/T) - 5.68e-9*n_He+*exp(285335.4/T))*exp(-916850.4/T)/(sqrt(10)*sqrt(T) + 1000)\n",
      "(dn_He, /, dt) = -2.38e-8*sqrt(T)*n_He*n_e-*exp(-285335.4/T)/(sqrt(10)*sqrt(T) + 1000)\n",
      "(dn_H, /, dt) = -5.85e-8*sqrt(T)*n_H*n_e-*exp(-157809.1/T)/(sqrt(10)*sqrt(T) + 1000)\n",
      "(dn_e-, /, dt) = sqrt(T)*n_e-*(5.85e-8*n_H*exp(916850.4/T) + 2.38e-8*n_He*exp(789324.1/T) + 5.68e-9*n_He+*exp(443144.5/T))*exp(-1074659.5/T)/(sqrt(10)*sqrt(T) + 1000)\n",
      "(dn_He++, /, dt) = 5.68e-9*sqrt(T)*n_He+*n_e-*exp(-631515/T)/(sqrt(10)*sqrt(T) + 1000)\n"
     ]
    }
   ],
   "source": [
    "%pylab\n",
    "#from pism.processes.nbody_process import NBodyProcess\n",
    "from pism.processes import LineCoolingSimple, Process\n",
    "from pism.processes import Ionization, CollisionalIonization\n",
    "from pism.symbols import *\n",
    "import sympy as sp\n",
    "#sp.simpl\n",
    "\n",
    "\n",
    "line_cooling = LineCoolingSimple(\"H\",\"e-\") + LineCoolingSimple(\"He+\",\"e-\")\n",
    "line_cooling += LineCoolingSimple(\"C+\")\n",
    "\n",
    "# (Cplus_cooling + line_cooling).heat\n",
    "total = CollisionalIonization() + line_cooling\n",
    "\n",
    "total.print_network_equations()"
   ]
  },
  {
   "cell_type": "code",
   "execution_count": 2,
   "id": "041b11c5",
   "metadata": {},
   "outputs": [
    {
     "data": {
      "image/png": "[encoded data removed]",
      "text/latex": [
       "$\\displaystyle \\frac{5.85 \\cdot 10^{-11} \\sqrt{T} n_{H} n_{e-} e^{- \\frac{157809.1}{T}}}{\\frac{\\sqrt{10} \\sqrt{T}}{1000} + 1} + \\frac{2.38 \\cdot 10^{-11} \\sqrt{T} n_{He} n_{e-} e^{- \\frac{285335.4}{T}}}{\\frac{\\sqrt{10} \\sqrt{T}}{1000} + 1} + \\frac{5.68 \\cdot 10^{-12} \\sqrt{T} n_{He+} n_{e-} e^{- \\frac{631515}{T}}}{\\frac{\\sqrt{10} \\sqrt{T}}{1000} + 1}$"
      ],
      "text/plain": [
       "                     -157809.1                          -285335.4              ↪\n",
       "                     ──────────                         ──────────             ↪\n",
       "                         T                                  T                  ↪\n",
       "5.85e-11⋅√T⋅n_H⋅nₑ₋⋅ℯ             2.38e-11⋅√T⋅n_He⋅nₑ₋⋅ℯ             5.68e-12⋅ ↪\n",
       "─────────────────────────────── + ──────────────────────────────── + ───────── ↪\n",
       "          √10⋅√T                             √10⋅√T                            ↪\n",
       "          ────── + 1                         ────── + 1                        ↪\n",
       "           1000                               1000                             ↪\n",
       "\n",
       "↪               -631515 \n",
       "↪               ────────\n",
       "↪                  T    \n",
       "↪ √T⋅n_He+⋅nₑ₋⋅ℯ        \n",
       "↪ ──────────────────────\n",
       "↪  √10⋅√T               \n",
       "↪  ────── + 1           \n",
       "↪   1000                "
      ]
     },
     "execution_count": 2,
     "metadata": {},
     "output_type": "execute_result"
    }
   ],
   "source": [
    "total.network[\"e-\"]"
   ]
  },
  {
   "cell_type": "code",
   "execution_count": null,
   "id": "d2d33460",
   "metadata": {},
   "outputs": [
    {
     "data": {
      "text/latex": [
       "$\\displaystyle \\frac{7.5 \\cdot 10^{-19} n_{H} n_{e-} e^{- \\frac{118348}{T}}}{0.00316227766016838 \\sqrt{T} + 1}$"
      ],
      "text/plain": [
       "7.5e-19*n_H*n_e-*exp(-118348/T)/(0.00316227766016838*sqrt(T) + 1)"
      ]
     },
     "execution_count": 7,
     "metadata": {},
     "output_type": "execute_result"
    }
   ],
   "source": [
    "sympy"
   ]
  },
  {
   "cell_type": "code",
   "execution_count": null,
   "id": "b25a19f7",
   "metadata": {},
   "outputs": [
    {
     "data": {
      "text/latex": [
       "$\\displaystyle - \\frac{7.5 \\cdot 10^{-19} e^{- \\frac{118348}{T}}}{\\frac{\\sqrt{10} \\sqrt{T}}{1000} + 1}$"
      ],
      "text/plain": [
       "-7.5e-19*exp(-118348/T)/(sqrt(10)*sqrt(T)/1000 + 1)"
      ]
     },
     "execution_count": 5,
     "metadata": {},
     "output_type": "execute_result"
    }
   ],
   "source": [
    "\n",
    "LineCoolingProcess('H','e-').heat_rate_coefficient"
   ]
  },
  {
   "cell_type": "code",
   "execution_count": 4,
   "id": "688730a6",
   "metadata": {},
   "outputs": [
    {
     "data": {
      "text/plain": [
       "<function _lambdifygenerated(T)>"
      ]
     },
     "execution_count": 4,
     "metadata": {},
     "output_type": "execute_result"
    }
   ],
   "source": [
    "lambdify('T',LineCoolingProcess('He+','e-').heat_rate_coefficient)"
   ]
  },
  {
   "cell_type": "code",
   "execution_count": null,
   "id": "71c8f2d7",
   "metadata": {},
   "outputs": [],
   "source": [
    "lambdify('T',LineCoolingProcess('H','e-').heat_rate_coefficient)(np.logspace(2,8,1000))"
   ]
  }
 ],
 "metadata": {
  "kernelspec": {
   "display_name": "Python 3",
   "language": "python",
   "name": "python3"
  },
  "language_info": {
   "codemirror_mode": {
    "name": "ipython",
    "version": 3
   },
   "file_extension": ".py",
   "mimetype": "text/x-python",
   "name": "python",
   "nbconvert_exporter": "python",
   "pygments_lexer": "ipython3",
   "version": "3.13.2"
  }
 },
 "nbformat": 4,
 "nbformat_minor": 5
}
