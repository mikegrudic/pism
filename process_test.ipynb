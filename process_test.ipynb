{
 "cells": [
  {
   "cell_type": "code",
   "execution_count": 7,
   "id": "67756cf5",
   "metadata": {},
   "outputs": [
    {
     "name": "stdout",
     "output_type": "stream",
     "text": [
      "Using matplotlib backend: module://matplotlib_inline.backend_inline\n",
      "%pylab is deprecated, use %matplotlib inline and import the required libraries.\n",
      "Populating the interactive namespace from numpy and matplotlib\n"
     ]
    },
    {
     "data": {
      "text/latex": [
       "$\\displaystyle \\frac{\\left(- 4.89 \\cdot 10^{-24} T^{0.397} n_{C+} n_{e-} z_{C} \\left(\\sqrt{10} \\sqrt{T} + 1000\\right) e^{\\frac{1666736.711}{T}} - 5.54 \\cdot 10^{-14} \\sqrt{T} n_{He+} n_{e-} e^{\\frac{1193189.922}{T}} - 7.5 \\cdot 10^{-16} T^{0.897} n_{H} n_{e-} e^{\\frac{1548479.922}{T}} - 4.7 \\cdot 10^{-28} T^{1.047} n_{C+} n_{H} z_{C} \\left(\\sqrt{10} \\sqrt{T} + 1000\\right) e^{\\frac{1666736.711}{T}} - 1.27 \\cdot 10^{-18} T^{1.397} n_{H} n_{e-} e^{\\frac{1509018.822}{T}} - 9.38 \\cdot 10^{-19} T^{1.397} n_{He} n_{e-} e^{\\frac{1381492.522}{T}} - 4.95 \\cdot 10^{-19} T^{1.397} n_{He+} n_{e-} e^{\\frac{1035312.922}{T}}\\right) e^{- \\frac{1666827.922}{T}}}{T^{0.897} \\left(\\sqrt{10} \\sqrt{T} + 1000\\right)}$"
      ],
      "text/plain": [
       "(-4.89e-24*T**0.397*n_C+*n_e-*z_C*(sqrt(10)*sqrt(T) + 1000)*exp(1666736.711/T) - 5.54e-14*sqrt(T)*n_He+*n_e-*exp(1193189.922/T) - 7.5e-16*T**0.897*n_H*n_e-*exp(1548479.922/T) - 4.7e-28*T**1.047*n_C+*n_H*z_C*(sqrt(10)*sqrt(T) + 1000)*exp(1666736.711/T) - 1.27e-18*T**1.397*n_H*n_e-*exp(1509018.822/T) - 9.38e-19*T**1.397*n_He*n_e-*exp(1381492.522/T) - 4.95e-19*T**1.397*n_He+*n_e-*exp(1035312.922/T))*exp(-1666827.922/T)/(T**0.897*(sqrt(10)*sqrt(T) + 1000))"
      ]
     },
     "execution_count": 7,
     "metadata": {},
     "output_type": "execute_result"
    }
   ],
   "source": [
    "%pylab\n",
    "#from pism.processes.nbody_process import NBodyProcess\n",
    "from pism.processes import LineCoolingSimple, Process\n",
    "from pism.processes import Ionization, CollisionalIonization\n",
    "from pism.symbols import *\n",
    "import sympy as sp\n",
    "#sp.simpl\n",
    "\n",
    "\n",
    "line_cooling = LineCoolingSimple(\"H\",\"e-\") + LineCoolingSimple(\"He+\",\"e-\")\n",
    "line_cooling += LineCoolingSimple(\"C+\")\n",
    "\n",
    "# (Cplus_cooling + line_cooling).heat\n",
    "sp.simplify((CollisionalIonization() + line_cooling).heat)"
   ]
  },
  {
   "cell_type": "code",
   "execution_count": null,
   "id": "041b11c5",
   "metadata": {},
   "outputs": [
    {
     "data": {
      "text/plain": [
       "{}"
      ]
     },
     "execution_count": 3,
     "metadata": {},
     "output_type": "execute_result"
    }
   ],
   "source": [
    "LineCoolingProcess('He+','e-')"
   ]
  },
  {
   "cell_type": "code",
   "execution_count": null,
   "id": "d2d33460",
   "metadata": {},
   "outputs": [
    {
     "data": {
      "text/latex": [
       "$\\displaystyle \\frac{7.5 \\cdot 10^{-19} n_{H} n_{e-} e^{- \\frac{118348}{T}}}{0.00316227766016838 \\sqrt{T} + 1}$"
      ],
      "text/plain": [
       "7.5e-19*n_H*n_e-*exp(-118348/T)/(0.00316227766016838*sqrt(T) + 1)"
      ]
     },
     "execution_count": 7,
     "metadata": {},
     "output_type": "execute_result"
    }
   ],
   "source": [
    "sympy"
   ]
  },
  {
   "cell_type": "code",
   "execution_count": null,
   "id": "b25a19f7",
   "metadata": {},
   "outputs": [
    {
     "data": {
      "text/latex": [
       "$\\displaystyle - \\frac{7.5 \\cdot 10^{-19} e^{- \\frac{118348}{T}}}{\\frac{\\sqrt{10} \\sqrt{T}}{1000} + 1}$"
      ],
      "text/plain": [
       "-7.5e-19*exp(-118348/T)/(sqrt(10)*sqrt(T)/1000 + 1)"
      ]
     },
     "execution_count": 5,
     "metadata": {},
     "output_type": "execute_result"
    }
   ],
   "source": [
    "\n",
    "LineCoolingProcess('H','e-').heat_rate_coefficient"
   ]
  },
  {
   "cell_type": "code",
   "execution_count": 4,
   "id": "688730a6",
   "metadata": {},
   "outputs": [
    {
     "data": {
      "text/plain": [
       "<function _lambdifygenerated(T)>"
      ]
     },
     "execution_count": 4,
     "metadata": {},
     "output_type": "execute_result"
    }
   ],
   "source": [
    "lambdify('T',LineCoolingProcess('He+','e-').heat_rate_coefficient)"
   ]
  },
  {
   "cell_type": "code",
   "execution_count": null,
   "id": "71c8f2d7",
   "metadata": {},
   "outputs": [],
   "source": [
    "lambdify('T',LineCoolingProcess('H','e-').heat_rate_coefficient)(np.logspace(2,8,1000))"
   ]
  }
 ],
 "metadata": {
  "kernelspec": {
   "display_name": "Python 3",
   "language": "python",
   "name": "python3"
  },
  "language_info": {
   "codemirror_mode": {
    "name": "ipython",
    "version": 3
   },
   "file_extension": ".py",
   "mimetype": "text/x-python",
   "name": "python",
   "nbconvert_exporter": "python",
   "pygments_lexer": "ipython3",
   "version": "3.13.2"
  }
 },
 "nbformat": 4,
 "nbformat_minor": 5
}
