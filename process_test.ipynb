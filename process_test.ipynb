{
 "cells": [
  {
   "cell_type": "code",
   "execution_count": 1,
   "id": "67756cf5",
   "metadata": {},
   "outputs": [
    {
     "name": "stdout",
     "output_type": "stream",
     "text": [
      "Using matplotlib backend: module://matplotlib_inline.backend_inline\n",
      "%pylab is deprecated, use %matplotlib inline and import the required libraries.\n",
      "Populating the interactive namespace from numpy and matplotlib\n"
     ]
    },
    {
     "data": {
      "text/latex": [
       "$\\displaystyle - \\frac{5.54 \\cdot 10^{-17} n_{He+} n_{e-} e^{- \\frac{473638}{T}}}{T^{0.397} \\left(\\frac{\\sqrt{10} \\sqrt{T}}{1000} + 1\\right)} - \\frac{7.5 \\cdot 10^{-19} n_{H} n_{e-} e^{- \\frac{118348}{T}}}{\\frac{\\sqrt{10} \\sqrt{T}}{1000} + 1}$"
      ],
      "text/plain": [
       "-5.54e-17*n_He+*n_e-*exp(-473638/T)/(T**0.397*(sqrt(10)*sqrt(T)/1000 + 1)) - 7.5e-19*n_H*n_e-*exp(-118348/T)/(sqrt(10)*sqrt(T)/1000 + 1)"
      ]
     },
     "execution_count": 1,
     "metadata": {},
     "output_type": "execute_result"
    }
   ],
   "source": [
    "%pylab\n",
    "#from pism.processes.nbody_process import NBodyProcess\n",
    "from pism.processes.line_cooling import LineCoolingProcess\n",
    "import sympy as sp\n",
    "#sp.simpl\n",
    "\n",
    "\n",
    "T = sp.symbols('T')\n",
    "T5 = T/1e5\n",
    "\n",
    "line_cooling = LineCoolingProcess(\"H\",\"e-\") + LineCoolingProcess(\"He+\",\"e-\")\n",
    "\n",
    "line_cooling.heat_per_volume\n",
    "#from sympy.utilities import lambdify\n",
    "#%pylab\n",
    "#lt.loglog(np.logspace(5,8,1000), -lambdify('T',LineCoolingProcess('H','e-').heat_rate_coefficient)(np.logspace(2,8,1000)))\n",
    "#plt.loglog(np.logspace(5,8,1000), -lambdify('T',LineCoolingProcess('He+','e-').heat_rate_coefficient)(np.logspace(2,8,1000)))\n",
    "#plt.ylim(1e-24,1e-18)\n",
    "\n",
    "# H0_line_cooling.rate_per_volume"
   ]
  },
  {
   "cell_type": "code",
   "execution_count": null,
   "id": "041b11c5",
   "metadata": {},
   "outputs": [
    {
     "data": {
      "text/plain": [
       "{}"
      ]
     },
     "execution_count": 3,
     "metadata": {},
     "output_type": "execute_result"
    }
   ],
   "source": [
    "LineCoolingProcess('He+','e-')"
   ]
  },
  {
   "cell_type": "code",
   "execution_count": null,
   "id": "d2d33460",
   "metadata": {},
   "outputs": [
    {
     "data": {
      "text/latex": [
       "$\\displaystyle \\frac{7.5 \\cdot 10^{-19} n_{H} n_{e-} e^{- \\frac{118348}{T}}}{0.00316227766016838 \\sqrt{T} + 1}$"
      ],
      "text/plain": [
       "7.5e-19*n_H*n_e-*exp(-118348/T)/(0.00316227766016838*sqrt(T) + 1)"
      ]
     },
     "execution_count": 7,
     "metadata": {},
     "output_type": "execute_result"
    }
   ],
   "source": [
    "sympy"
   ]
  },
  {
   "cell_type": "code",
   "execution_count": null,
   "id": "b25a19f7",
   "metadata": {},
   "outputs": [
    {
     "data": {
      "text/latex": [
       "$\\displaystyle - \\frac{7.5 \\cdot 10^{-19} e^{- \\frac{118348}{T}}}{\\frac{\\sqrt{10} \\sqrt{T}}{1000} + 1}$"
      ],
      "text/plain": [
       "-7.5e-19*exp(-118348/T)/(sqrt(10)*sqrt(T)/1000 + 1)"
      ]
     },
     "execution_count": 5,
     "metadata": {},
     "output_type": "execute_result"
    }
   ],
   "source": [
    "\n",
    "LineCoolingProcess('H','e-').heat_rate_coefficient"
   ]
  },
  {
   "cell_type": "code",
   "execution_count": 4,
   "id": "688730a6",
   "metadata": {},
   "outputs": [
    {
     "data": {
      "text/plain": [
       "<function _lambdifygenerated(T)>"
      ]
     },
     "execution_count": 4,
     "metadata": {},
     "output_type": "execute_result"
    }
   ],
   "source": [
    "lambdify('T',LineCoolingProcess('He+','e-').heat_rate_coefficient)"
   ]
  },
  {
   "cell_type": "code",
   "execution_count": null,
   "id": "71c8f2d7",
   "metadata": {},
   "outputs": [],
   "source": [
    "lambdify('T',LineCoolingProcess('H','e-').heat_rate_coefficient)(np.logspace(2,8,1000))"
   ]
  }
 ],
 "metadata": {
  "kernelspec": {
   "display_name": "Python 3",
   "language": "python",
   "name": "python3"
  },
  "language_info": {
   "codemirror_mode": {
    "name": "ipython",
    "version": 3
   },
   "file_extension": ".py",
   "mimetype": "text/x-python",
   "name": "python",
   "nbconvert_exporter": "python",
   "pygments_lexer": "ipython3",
   "version": "3.13.2"
  }
 },
 "nbformat": 4,
 "nbformat_minor": 5
}
