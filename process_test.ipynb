{
 "cells": [
  {
   "cell_type": "code",
   "execution_count": null,
   "id": "67756cf5",
   "metadata": {},
   "outputs": [
    {
     "name": "stdout",
     "output_type": "stream",
     "text": [
      "Using matplotlib backend: module://matplotlib_inline.backend_inline\n",
      "%pylab is deprecated, use %matplotlib inline and import the required libraries.\n",
      "Populating the interactive namespace from numpy and matplotlib\n"
     ]
    },
    {
     "data": {
      "text/latex": [
       "$\\displaystyle - \\frac{4.7 \\cdot 10^{-28} T^{0.15} n_{C+} n_{H} e^{- \\frac{91.211}{T}}}{Z_{C0}} - \\frac{3.46353238381543 \\cdot 10^{-26} T^{0.3} n_{H+} n_{e-}}{6.30957344480194 \\cdot 10^{-5} T^{0.7} + 1} + \\frac{1.2746917300104 \\cdot 10^{-21} \\sqrt{T} n_{H} n_{e-} e^{- \\frac{157809.1}{T}}}{\\frac{\\sqrt{10} \\sqrt{T}}{1000} + 1} - \\frac{4.89 \\cdot 10^{-24} n_{C+} n_{e-} e^{- \\frac{91.211}{T}}}{\\sqrt{T} Z_{C0}}$"
      ],
      "text/plain": [
       "-4.7e-28*T**0.15*n_C+*n_H*exp(-91.211/T)/Z_C0 - 3.46353238381543e-26*T**0.3*n_H+*n_e-/(6.30957344480194e-5*T**0.7 + 1) + 1.2746917300104e-21*sqrt(T)*n_H*n_e-*exp(-157809.1/T)/(sqrt(10)*sqrt(T)/1000 + 1) - 4.89e-24*n_C+*n_e-*exp(-91.211/T)/(sqrt(T)*Z_C0)"
      ]
     },
     "execution_count": 1,
     "metadata": {},
     "output_type": "execute_result"
    }
   ],
   "source": [
    "%pylab\n",
    "#from pism.processes.nbody_process import NBodyProcess\n",
    "from pism.processes import LineCoolingSimple, Process\n",
    "from pism.processes import Ionization, CollisionalIonization, GasPhaseRecombination, FreeFreeEmission\n",
    "from pism.symbols import *\n",
    "import sympy as sp\n",
    "#sp.simpl\n",
    "\n",
    "\n",
    "H_only_network = CollisionalIonization(\"H\") + GasPhaseRecombination(\"H+\") + LineCoolingSimple(\"C+\")\n",
    "\n",
    "\n",
    "sp.simplify(H_only_network.heat)\n",
    "# line_cooling = LineCoolingSimple(\"H\",\"e-\") + LineCoolingSimple(\"He+\",\"e-\")\n",
    "# line_cooling += LineCoolingSimple(\"C+\")\n",
    "\n",
    "# # (Cplus_cooling + line_cooling).heat\n",
    "# total = CollisionalIonization() + line_cooling\n"
   ]
  },
  {
   "cell_type": "code",
   "execution_count": null,
   "id": "e8ea1c25",
   "metadata": {},
   "outputs": [
    {
     "data": {
      "text/plain": [
       "'1.2746917300103999e-21*(1-x_e)*sqrt(T)*pow(n_Htot, 2)*x_e*exp(-157809.10000000001/T)/((1.0/1000.0)*sqrt(10)*sqrt(T) + 1) - 3.4635323838154264e-26*pow(T, 0.29999999999999999)*pow(n_Htot, 2)*pow(x_e, 2)/(6.3095734448019361e-5*pow(T, 0.69999999999999996) + 1)'"
      ]
     },
     "execution_count": 79,
     "metadata": {},
     "output_type": "execute_result"
    }
   ],
   "source": [
    "\n",
    "xe = 0.5\n",
    "a =H_only_network.heat#.replace(sp.symbols(\"n_H\"),1-xe).replace(sp.symbols(\"n_H+\"),xe).replace(sp.symbols(\"n_e-\"),xe)\n",
    "\n",
    "\n",
    "from sympy.utilities.lambdify import lambdastr\n",
    "\n",
    "#func = sp.lambdify(sp.symbols(\"T n_H n_e- n_H+\"), a)\n",
    "\n",
    "#func\n",
    "\n",
    "sp.ccode(H_only_network.network.replace(sp.symbols(\"n_e-\"), sp.symbols(\"n_Htot\")*sp.symbols(\"x_e\")).replace(sp.symbols(\"n_H+\"), sp.symbols(\"n_Htot\")*sp.symbols(\"x_e\")).replace(sp.symbols(\"n_H\"), sp.symbols(\"n_Htot\")*sp.symbols(\"(1-x_e)\")))\n",
    "\n",
    "\n",
    "# Tgrid = np.logspace(2,6,10**4)\n",
    "\n",
    "# for xe in np.linspace(0,1,11):\n",
    "#     plt.loglog(Tgrid, np.abs(func(Tgrid,(1-xe),xe,xe)))\n",
    "\n",
    "# f = lambda T: (-8.65883095953857e-27*T**0.3/(6.30957344480194e-5*T**0.7 + 1) + 3.186729325026e-22*sqrt(T)*np.exp(-157809.1/T)/((1/1000)*sqrt(10)*sqrt(T) + 1))\n",
    "\n",
    "# Tgrid = np.logspace(2,6,10**4)\n",
    "# plt.loglog(Tgrid, np.abs(f(Tgrid)))\n",
    "\n",
    "#np.interp(0, [float(a.replace(sp.symbols(\"T\"),t)) for t in Tgrid], Tgrid)\n",
    "#plt.plot([float(a.replace(sp.symbols(\"T\"),t)) for t in Tgrid], Tgrid)\n",
    "#sp.lambdify(a, sp.symbols(\"T\"))"
   ]
  },
  {
   "cell_type": "code",
   "execution_count": 19,
   "id": "041b11c5",
   "metadata": {},
   "outputs": [
    {
     "ename": "SyntaxError",
     "evalue": "invalid syntax (<lambdifygenerated-4>, line 1)",
     "output_type": "error",
     "traceback": [
      "Traceback \u001b[0;36m(most recent call last)\u001b[0m:\n",
      "\u001b[0m  File \u001b[1;32m/Library/Frameworks/Python.framework/Versions/3.13/lib/python3.13/site-packages/IPython/core/interactiveshell.py:3577\u001b[0m in \u001b[1;35mrun_code\u001b[0m\n    exec(code_obj, self.user_global_ns, self.user_ns)\u001b[0m\n",
      "\u001b[0m  Cell \u001b[1;32mIn[19], line 1\u001b[0m\n    sp.lambdify(GasPhaseRecombination(\"H+\").heat.replace(sp.symbols(\"n_H\"),0).replace(sp.symbols(\"n_H+\"),1).replace(sp.symbols(\"n_e-\"),1),sp.symbols(\"T\"))\u001b[0m\n",
      "\u001b[0;36m  File \u001b[0;32m~/Library/Python/3.13/lib/python/site-packages/sympy/utilities/lambdify.py:919\u001b[0;36m in \u001b[0;35mlambdify\u001b[0;36m\n\u001b[0;31m    c = compile(funcstr, filename, 'exec')\u001b[0;36m\n",
      "\u001b[0;36m  File \u001b[0;32m<lambdifygenerated-4>:1\u001b[0;36m\u001b[0m\n\u001b[0;31m    def _lambdifygenerated(-3.46353238381543e-26*T**0.3/(6.30957344480194e-5*T**0.7 + 1)):\u001b[0m\n\u001b[0m                           ^\u001b[0m\n\u001b[0;31mSyntaxError\u001b[0m\u001b[0;31m:\u001b[0m invalid syntax\n"
     ]
    }
   ],
   "source": [
    "sp.lambdify(GasPhaseRecombination(\"H+\").heat.replace(sp.symbols(\"n_H\"),0).replace(sp.symbols(\"n_H+\"),1).replace(sp.symbols(\"n_e-\"),1),sp.symbols(\"T\"))\n",
    "#from pism.processes import GasPhaseRecombination, CollisionalIonization\n",
    "#import sympy as sp \n",
    "#GasPhaseRecombination().network[\"e-\"].subs(sp.symbols(\"n_e-\"), sp.symbols(\"n_H+\") + sp.symbols(\"n_He+\") + 2*sp.symbols(\"n_He++\"))"
   ]
  },
  {
   "cell_type": "code",
   "execution_count": 28,
   "id": "d2d33460",
   "metadata": {},
   "outputs": [
    {
     "data": {
      "text/latex": [
       "$\\displaystyle - \\frac{3.34410023264938 \\cdot 10^{-10} n_{H+}^{2}}{T^{0.7} \\left(6.30957344480194 \\cdot 10^{-5} T^{0.7} + 1\\right)} + \\frac{5.85 \\cdot 10^{-11} \\sqrt{T} n_{H+} \\left(- n_{H+} + n_{Htot}\\right) e^{- \\frac{157809.1}{T}}}{\\frac{\\sqrt{10} \\sqrt{T}}{1000} + 1}$"
      ],
      "text/plain": [
       "-3.34410023264938e-10*n_H+**2/(T**0.7*(6.30957344480194e-5*T**0.7 + 1)) + 5.85e-11*sqrt(T)*n_H+*(-n_H+ + n_Htot)*exp(-157809.1/T)/(sqrt(10)*sqrt(T)/1000 + 1)"
      ]
     },
     "execution_count": 28,
     "metadata": {},
     "output_type": "execute_result"
    }
   ],
   "source": [
    "network = GasPhaseRecombination(\"H+\") + CollisionalIonization(\"H\")\n",
    "\n",
    "network.network[\"e-\"].replace(sp.symbols(\"n_e-\"),sp.symbols(\"n_H+\")).replace(sp.symbols(\"n_H\"), sp.symbols(\"n_Htot\")-sp.symbols(\"n_H+\"))\n",
    "\n",
    "# system = list(network.network.values()) + [sp.symbols(\"n_e-\") - sp.symbols(\"n_H+\")] + [sp.symbols(\"n_H+\") + sp.symbols(\"n_H\") - sp.symbols(\"n_Htot\")]\n",
    "\n"
   ]
  },
  {
   "cell_type": "code",
   "execution_count": 15,
   "id": "b25a19f7",
   "metadata": {},
   "outputs": [
    {
     "ename": "NameError",
     "evalue": "name 'LineCoolingProcess' is not defined",
     "output_type": "error",
     "traceback": [
      "\u001b[0;31m---------------------------------------------------------------------------\u001b[0m",
      "\u001b[0;31mNameError\u001b[0m                                 Traceback (most recent call last)",
      "Cell \u001b[0;32mIn[15], line 1\u001b[0m\n\u001b[0;32m----> 1\u001b[0m \u001b[43mLineCoolingProcess\u001b[49m(\u001b[38;5;124m'\u001b[39m\u001b[38;5;124mH\u001b[39m\u001b[38;5;124m'\u001b[39m,\u001b[38;5;124m'\u001b[39m\u001b[38;5;124me-\u001b[39m\u001b[38;5;124m'\u001b[39m)\u001b[38;5;241m.\u001b[39mheat_rate_coefficient\n",
      "\u001b[0;31mNameError\u001b[0m: name 'LineCoolingProcess' is not defined"
     ]
    }
   ],
   "source": [
    "\n",
    "LineCoolingProcess('H','e-').heat_rate_coefficient"
   ]
  },
  {
   "cell_type": "code",
   "execution_count": null,
   "id": "688730a6",
   "metadata": {},
   "outputs": [
    {
     "data": {
      "text/plain": [
       "<function _lambdifygenerated(T)>"
      ]
     },
     "execution_count": 4,
     "metadata": {},
     "output_type": "execute_result"
    }
   ],
   "source": [
    "lambdify('T',LineCoolingProcess('He+','e-').heat_rate_coefficient)"
   ]
  },
  {
   "cell_type": "code",
   "execution_count": null,
   "id": "71c8f2d7",
   "metadata": {},
   "outputs": [],
   "source": [
    "lambdify('T',LineCoolingProcess('H','e-').heat_rate_coefficient)(np.logspace(2,8,1000))"
   ]
  }
 ],
 "metadata": {
  "kernelspec": {
   "display_name": "Python 3",
   "language": "python",
   "name": "python3"
  },
  "language_info": {
   "codemirror_mode": {
    "name": "ipython",
    "version": 3
   },
   "file_extension": ".py",
   "mimetype": "text/x-python",
   "name": "python",
   "nbconvert_exporter": "python",
   "pygments_lexer": "ipython3",
   "version": "3.13.2"
  }
 },
 "nbformat": 4,
 "nbformat_minor": 5
}
