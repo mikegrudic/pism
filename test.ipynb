{
 "cells": [
  {
   "cell_type": "code",
   "execution_count": null,
   "id": "5c3f95da",
   "metadata": {},
   "outputs": [
    {
     "name": "stdout",
     "output_type": "stream",
     "text": [
      "Using matplotlib backend: module://matplotlib_inline.backend_inline\n",
      "%pylab is deprecated, use %matplotlib inline and import the required libraries.\n",
      "Populating the interactive namespace from numpy and matplotlib\n"
     ]
    }
   ],
   "source": [
    "%pylab\n",
    "\n",
    "import pism\n",
    "from pism.processes import LineCooling, CollisionalIonization, FreeFreeEmission\n",
    "#full_rhs = all_processes.RHS(steadystate_species=steadystate_species) # specfiy steady-state species at the time of generation of the function\n",
    "#rhd_jacobian = jac(full_rhs)\n",
    "\n",
    "# full system to solve:\n",
    "# u(T) = u for T\n",
    "# ne = sum(n_I * ionization degree)\n",
    "# gas energy equation: u(t+dt) = u(t) + heating(t+dt) - cooling(t+dt) + PdV(t+dt/2)\n",
    "# dust energy equation: udust(t+dt) - udust(t) = (gas-grain heat transfer + photon absorption - emission)(t+dt); udust = specific heat * Tdust\n",
    "# all ionization reactions: ∂n_i/∂t = collisional + radiative + CR ionization - recombination\n",
    "# "
   ]
  },
  {
   "cell_type": "code",
   "execution_count": 7,
   "id": "d6d2f3a3",
   "metadata": {},
   "outputs": [],
   "source": [
    "from ASDCache import SpectraCache\n",
    "import matplotlib.pyplot as plt\n",
    "import pandas as pd\n",
    "import numpy as np\n",
    "\n",
    "nist = SpectraCache(use_polars_backend=False)\n",
    "lines_H_I = nist.fetch(\"H I\", wl_range=(170, 1000))"
   ]
  },
  {
   "cell_type": "code",
   "execution_count": 2,
   "id": "b4b7e58c",
   "metadata": {},
   "outputs": [
    {
     "ename": "NameError",
     "evalue": "name 'LineCooling' is not defined",
     "output_type": "error",
     "traceback": [
      "\u001b[0;31m---------------------------------------------------------------------------\u001b[0m",
      "\u001b[0;31mNameError\u001b[0m                                 Traceback (most recent call last)",
      "Cell \u001b[0;32mIn[2], line 9\u001b[0m\n\u001b[1;32m      5\u001b[0m ionizable_species \u001b[38;5;241m=\u001b[39m \u001b[38;5;124m\"\u001b[39m\u001b[38;5;124mH\u001b[39m\u001b[38;5;124m\"\u001b[39m, \u001b[38;5;124m\"\u001b[39m\u001b[38;5;124mHe\u001b[39m\u001b[38;5;124m\"\u001b[39m, \u001b[38;5;124m\"\u001b[39m\u001b[38;5;124mHe+\u001b[39m\u001b[38;5;124m\"\u001b[39m\n\u001b[1;32m      6\u001b[0m ions \u001b[38;5;241m=\u001b[39m \u001b[38;5;124m\"\u001b[39m\u001b[38;5;124mH+\u001b[39m\u001b[38;5;124m\"\u001b[39m, \u001b[38;5;124m\"\u001b[39m\u001b[38;5;124mHe+\u001b[39m\u001b[38;5;124m\"\u001b[39m, \u001b[38;5;124m\"\u001b[39m\u001b[38;5;124mHe2+\u001b[39m\u001b[38;5;124m\"\u001b[39m\n\u001b[1;32m      8\u001b[0m processes \u001b[38;5;241m=\u001b[39m (\n\u001b[0;32m----> 9\u001b[0m     [\u001b[43mLineCooling\u001b[49m(species) \u001b[38;5;28;01mfor\u001b[39;00m species \u001b[38;5;129;01min\u001b[39;00m atoms]\n\u001b[1;32m     10\u001b[0m     \u001b[38;5;241m+\u001b[39m [CollisionalIonization(species) \u001b[38;5;28;01mfor\u001b[39;00m species \u001b[38;5;129;01min\u001b[39;00m ionizable_species]\n\u001b[1;32m     11\u001b[0m     \u001b[38;5;241m+\u001b[39m [FreeFreeEmission(i) \u001b[38;5;28;01mfor\u001b[39;00m i \u001b[38;5;129;01min\u001b[39;00m ions]\n\u001b[1;32m     12\u001b[0m \n\u001b[1;32m     13\u001b[0m )\n\u001b[1;32m     15\u001b[0m steadystate_species \u001b[38;5;241m=\u001b[39m \u001b[38;5;124m\"\u001b[39m\u001b[38;5;124me-\u001b[39m\u001b[38;5;124m\"\u001b[39m \u001b[38;5;241m+\u001b[39m ions\n\u001b[1;32m     17\u001b[0m  \u001b[38;5;66;03m# this should return a jax function whose argument is the vector of unknowns\u001b[39;00m\n",
      "\u001b[0;31mNameError\u001b[0m: name 'LineCooling' is not defined"
     ]
    }
   ],
   "source": [
    "#import jax.numpy as jnp\n",
    "#from jax import grad, jit, vmap\n",
    "\n",
    "atoms = \"H\", \"He\"\n",
    "ionizable_species = \"H\", \"He\", \"He+\"\n",
    "ions = \"H+\", \"He+\", \"He2+\"\n",
    "\n",
    "processes = (\n",
    "    [LineCooling(species) for species in atoms]\n",
    "    + [CollisionalIonization(species) for species in ionizable_species]\n",
    "    + [FreeFreeEmission(i) for i in ions]\n",
    "\n",
    ")\n",
    "\n",
    "steadystate_species = \"e-\" + ions\n",
    "\n",
    " # this should return a jax function whose argument is the vector of unknowns\n",
    "\n",
    "all_processes = sum(processes)\n",
    "all_processes.heat_per_volume\n"
   ]
  },
  {
   "cell_type": "code",
   "execution_count": null,
   "id": "da0d865a",
   "metadata": {},
   "outputs": [],
   "source": []
  },
  {
   "cell_type": "code",
   "execution_count": null,
   "id": "e5341c12",
   "metadata": {},
   "outputs": [],
   "source": []
  }
 ],
 "metadata": {
  "kernelspec": {
   "display_name": "Python 3",
   "language": "python",
   "name": "python3"
  },
  "language_info": {
   "codemirror_mode": {
    "name": "ipython",
    "version": 3
   },
   "file_extension": ".py",
   "mimetype": "text/x-python",
   "name": "python",
   "nbconvert_exporter": "python",
   "pygments_lexer": "ipython3",
   "version": "3.13.2"
  }
 },
 "nbformat": 4,
 "nbformat_minor": 5
}
